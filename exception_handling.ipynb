{
 "cells": [
  {
   "cell_type": "code",
   "execution_count": null,
   "id": "012cc6ec",
   "metadata": {},
   "outputs": [
    {
     "name": "stdout",
     "output_type": "stream",
     "text": [
      "Invalid Number\n"
     ]
    }
   ],
   "source": [
    "\n",
    "\n",
    "try:\n",
    "    x = int(input(\"Enter  number: \"))\n",
    "    print(x)\n",
    "except  ValueError  as e:\n",
    "    print(\"Invalid Number\")"
   ]
  },
  {
   "cell_type": "code",
   "execution_count": 11,
   "id": "40c94055",
   "metadata": {},
   "outputs": [
    {
     "name": "stdout",
     "output_type": "stream",
     "text": [
      "File Not Found\n",
      "File Exists\n"
     ]
    }
   ],
   "source": [
    "# import os\n",
    "\n",
    "\n",
    "try:\n",
    "    f = open(\"detaidcsddscls.txt\" ,\"r\")\n",
    "    f.close()\n",
    "except FileNotFoundError:\n",
    "    print(\"File Not Found\")\n",
    "finally:\n",
    "    print(\"File Exists\")"
   ]
  }
 ],
 "metadata": {
  "kernelspec": {
   "display_name": "base",
   "language": "python",
   "name": "python3"
  },
  "language_info": {
   "codemirror_mode": {
    "name": "ipython",
    "version": 3
   },
   "file_extension": ".py",
   "mimetype": "text/x-python",
   "name": "python",
   "nbconvert_exporter": "python",
   "pygments_lexer": "ipython3",
   "version": "3.12.7"
  }
 },
 "nbformat": 4,
 "nbformat_minor": 5
}
