{
 "cells": [
  {
   "cell_type": "code",
   "execution_count": null,
   "id": "73f7ad7d",
   "metadata": {},
   "outputs": [
    {
     "name": "stdout",
     "output_type": "stream",
     "text": [
      "(13, 7)\n"
     ]
    }
   ],
   "source": [
    "import pandas as pd\n",
    "\n",
    "pasthires = pd.read_csv(\"PastHires.csv\")\n",
    "# print(pasthires)\n",
    "# show first 5 rows\n",
    "# print(pasthires.head())\n",
    "# showlast 5 rows\n",
    "# print(pasthires.tail())\n",
    "# Show columns\n",
    "# print(pasthires.columns)\n",
    "# show number of rows and colums (ex : shape)\n",
    "print(pasthires.shape)\n",
    "\n",
    "\n",
    "\n",
    "\n",
    "\n"
   ]
  },
  {
   "cell_type": "code",
   "execution_count": null,
   "id": "a6283415",
   "metadata": {},
   "outputs": [],
   "source": []
  }
 ],
 "metadata": {
  "kernelspec": {
   "display_name": "base",
   "language": "python",
   "name": "python3"
  },
  "language_info": {
   "codemirror_mode": {
    "name": "ipython",
    "version": 3
   },
   "file_extension": ".py",
   "mimetype": "text/x-python",
   "name": "python",
   "nbconvert_exporter": "python",
   "pygments_lexer": "ipython3",
   "version": "3.12.7"
  }
 },
 "nbformat": 4,
 "nbformat_minor": 5
}
