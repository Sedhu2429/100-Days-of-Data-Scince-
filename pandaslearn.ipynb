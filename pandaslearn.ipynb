{
 "cells": [
  {
   "cell_type": "code",
   "execution_count": null,
   "id": "73f7ad7d",
   "metadata": {},
   "outputs": [
    {
     "name": "stdout",
     "output_type": "stream",
     "text": [
      "(13, 7)\n"
     ]
    }
   ],
   "source": [
    "import pandas as pd\n",
    "\n",
    "pasthires = pd.read_csv(\"PastHires.csv\")\n",
    "# print(pasthires)\n",
    "# show first 5 rows\n",
    "# print(pasthires.head())\n",
    "# showlast 5 rows\n",
    "# print(pasthires.tail())\n",
    "# Show columns\n",
    "# print(pasthires.columns)\n",
    "# show number of rows and colums (ex : shape)\n",
    "print(pasthires.shape)\n",
    "\n",
    "\n",
    "\n",
    "\n",
    "\n"
   ]
  },
  {
   "cell_type": "code",
   "execution_count": null,
   "id": "ab7ec99a",
   "metadata": {},
   "outputs": [
    {
     "name": "stdout",
     "output_type": "stream",
     "text": [
      "b    23\n",
      "d    12\n",
      "dtype: int64\n"
     ]
    }
   ],
   "source": [
    "import numpy as np\n",
    "import pandas as pd \n",
    "import os\n",
    "\n",
    "\n",
    "# series\n",
    "data  = pd.Series([1,23,3,12,3,4], index = [\"a\",\"b\",\"c\",\"d\",\"e\",\"f\"])\n",
    "\n",
    "print(data[1])\n",
    "\n",
    "print(np.mean(data))\n",
    "\n",
    "print(data.mean())\n",
    "\n",
    "print(data  > 12)\n",
    "\n",
    "print(data[data > 4])\n",
    "\n",
    "\n",
    "\n",
    "# \n",
    "\n",
    "\n"
   ]
  },
  {
   "cell_type": "markdown",
   "id": "c6684629",
   "metadata": {},
   "source": [
    "Data  Frame"
   ]
  },
  {
   "cell_type": "code",
   "execution_count": 78,
   "id": "70fdfdc5",
   "metadata": {},
   "outputs": [
    {
     "name": "stdout",
     "output_type": "stream",
     "text": [
      "    Name  age            City  Salaray  Bonus\n",
      "0  Sedhu   22        Namakkal    23000   4600\n",
      "1  Kesav   21  Ramanathapuram    20000   4000\n",
      "2   Kavi   24       Thanjavur    18000   3600\n",
      "3  Mathi   25       Patukotai    35000   7000\n",
      "4   Raja   26           Erode    15000   3000\n",
      "    Name  age            City  Salaray\n",
      "0  Sedhu   22        Namakkal    23000\n",
      "1  Kesav   21  Ramanathapuram    20000\n",
      "2   Kavi   24       Thanjavur    18000\n",
      "3  Mathi   25       Patukotai    35000\n",
      "4   Raja   26           Erode    15000\n",
      "    Name  age            City  Salaray  Bonus\n",
      "0  Sedhu   22        Namakkal    23000   4600\n",
      "1  Kesav   21  Ramanathapuram    20000   4000\n",
      "4   Raja   26           Erode    15000   3000\n"
     ]
    }
   ],
   "source": [
    "import pandas as pd\n",
    "\n",
    "\n",
    "data  = {\n",
    "    \"Name\": [\"Sedhu\",\"Kesav\",\"Kavi\",\"Mathi\",\"Raja\"],\n",
    "    \"age\" : [22,21,24,25,26],\n",
    "    \"City\":[\"Namakkal\",\"Ramanathapuram\",\"Thanjavur\",\"Patukotai\",\"Erode\"],\n",
    "    \"Salaray\": [23000,20000,18000,35000,15000]\n",
    "}\n",
    "\n",
    "\n",
    "df = pd.DataFrame(data)\n",
    "\n",
    "# print(df)\n",
    "\n",
    "# Basic Operations\n",
    "\n",
    "# print(df[\"Name\"][2])\n",
    "\n",
    "# print(df[[\"Name\",\"City\"]].loc[2])\n",
    "\n",
    "# print(df.loc[2,[\"Name\",\"City\"]])\n",
    "\n",
    "# print(df.loc[2,\"City\"])\n",
    "\n",
    "# print(df[df[\"Name\"],[\"age\" > 23]]])\n",
    "\n",
    "# print(df[df[\"age\"]> 23][[\"Name\",\"age\"]])\n",
    "\n",
    "\n",
    "# df[\"Bonus\"]  = round(df[\"Salaray\"]*0.2)\n",
    "\n",
    "df[\"Bonus\"] = df[\"Salaray\"] // 5\n",
    "\n",
    "# df[\"Bonus\"] = (df[\"Salaray\"] * 2).round().astype(int)\n",
    "\n",
    "print(df)\n",
    "\n",
    "updated_df = df.drop(\"Bonus\", axis = 1)\n",
    "\n",
    "# print(df.drop(\"Bonus\", axis=1))\n",
    "\n",
    "print(updated_df)\n",
    "\n",
    "\n",
    "# For DROP  Column giving  the  NAME  of the Selected Column is the right approach  \n",
    "# For DROP  ROW  give  POSITION  in  int\n",
    "\n",
    "row_df = df.drop([2,3], axis= 0)\n",
    "\n",
    "print(row_df)\n",
    "\n"
   ]
  }
 ],
 "metadata": {
  "kernelspec": {
   "display_name": "base",
   "language": "python",
   "name": "python3"
  },
  "language_info": {
   "codemirror_mode": {
    "name": "ipython",
    "version": 3
   },
   "file_extension": ".py",
   "mimetype": "text/x-python",
   "name": "python",
   "nbconvert_exporter": "python",
   "pygments_lexer": "ipython3",
   "version": "3.12.7"
  }
 },
 "nbformat": 4,
 "nbformat_minor": 5
}
