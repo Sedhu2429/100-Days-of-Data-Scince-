{
 "cells": [
  {
   "cell_type": "code",
   "execution_count": 8,
   "id": "1f6f5444",
   "metadata": {},
   "outputs": [
    {
     "name": "stdout",
     "output_type": "stream",
     "text": [
      "shape (3, 3)\n"
     ]
    }
   ],
   "source": [
    "import numpy as np\n",
    "\n",
    "a = np.array([[1,2,3], [4,5,6], [7,8,9]])\n",
    "\n",
    "\n",
    "print(\"shape\", a.shape)\n",
    "\n"
   ]
  },
  {
   "cell_type": "markdown",
   "id": "b178b36e",
   "metadata": {},
   "source": [
    "Three Dimensional arrary"
   ]
  },
  {
   "cell_type": "code",
   "execution_count": 74,
   "id": "15450605",
   "metadata": {},
   "outputs": [
    {
     "name": "stdout",
     "output_type": "stream",
     "text": [
      "shape (2, 3, 3)\n",
      "[[[1 2 3]\n",
      "  [4 5 6]\n",
      "  [7 8 9]]\n",
      "\n",
      " [[1 2 3]\n",
      "  [4 5 6]\n",
      "  [7 8 9]]]\n"
     ]
    }
   ],
   "source": [
    "import numpy as np \n",
    "b = np.array([[[1,2,3], [4,5,6], [7,8,9] ] , [[1,2,3] ,[4,5,6],[7,8,9]]] )\n",
    "print(\"shape\", b.shape)\n",
    "print(b)\n",
    "\n"
   ]
  },
  {
   "cell_type": "code",
   "execution_count": 27,
   "id": "b3d784e5",
   "metadata": {},
   "outputs": [
    {
     "name": "stdout",
     "output_type": "stream",
     "text": [
      "shape (2, 3, 4)\n",
      "[[[36 49 59 77]\n",
      "  [ 5  5 64 77]\n",
      "  [60 83 60 74]]\n",
      "\n",
      " [[ 7  7 75 62]\n",
      "  [34 49 36 51]\n",
      "  [90  6 70 22]]]\n",
      "shape (2, 3, 4)\n"
     ]
    }
   ],
   "source": [
    "import numpy as np\n",
    "\n",
    "c = np.zeros((2,3,4))\n",
    "\n",
    "\n",
    "\n",
    "print(\"shape\", c.shape)\n",
    "\n",
    "d = np.random.randint(1,100,(2,3,4))\n",
    "\n",
    "\n",
    "print(d)\n",
    "print(\"shape\", d.shape)"
   ]
  },
  {
   "cell_type": "markdown",
   "id": "07924bbd",
   "metadata": {},
   "source": [
    "single dimensional "
   ]
  },
  {
   "cell_type": "code",
   "execution_count": null,
   "id": "73138609",
   "metadata": {},
   "outputs": [
    {
     "name": "stdout",
     "output_type": "stream",
     "text": [
      "shape (2, 2)\n"
     ]
    }
   ],
   "source": [
    "import numpy as np \n",
    "\n",
    "e  = np.array([\n",
    "    [\n",
    "        np.array([1,2,3]), np.array([4,5,6])  \n",
    "    ],\n",
    "    [\n",
    "        np.array([7,8]) , np.array([10,11,12])\n",
    "    ]\n",
    "    ] , dtype=object )\n",
    "\n",
    "print(\"shape\", e.shape) \n",
    "\n",
    "# single dimensional \n",
    "\n",
    "\n",
    "    \n"
   ]
  },
  {
   "cell_type": "code",
   "execution_count": null,
   "id": "1b57ed2d",
   "metadata": {},
   "outputs": [
    {
     "name": "stdout",
     "output_type": "stream",
     "text": [
      "5\n"
     ]
    }
   ],
   "source": [
    "import  numpy as np\n",
    "\n",
    "data = [ [[1,2,3,4,5 ,6], [1,2,3,4,5,6]], [[1,2,3,4,5,], [1,2,3,4,5]] ]\n",
    "\n",
    "lenght = max(len(row) for block in data  for row in block)\n",
    "\n",
    "for i in data:\n",
    "    for j in i:\n",
    "        l = len(j)\n",
    "\n",
    "print(l)"
   ]
  },
  {
   "cell_type": "markdown",
   "id": "0d30d8fb",
   "metadata": {},
   "source": [
    "Tasks\n",
    "\n",
    "1. syncthtic data\n",
    "2. \n"
   ]
  },
  {
   "cell_type": "code",
   "execution_count": null,
   "id": "4f6a385b",
   "metadata": {},
   "outputs": [
    {
     "name": "stdout",
     "output_type": "stream",
     "text": [
      "[[[1, 2, 3, 4, 5, 6], [1, 2, 3, 4, 5, 6]], [[1, 2, 3, 4, 5], [1, 2, 3, 4, 5]]]\n",
      "[[1, 2, 3, 4, 5, 6], [1, 2, 3, 4, 5, 6]]\n",
      "[[1, 2, 3, 4, 5], [1, 2, 3, 4, 5]]\n"
     ]
    }
   ],
   "source": [
    "# indexing\n",
    "import  numpy as np\n",
    "\n",
    "data = [ [[1,2,3,4,5 ,6], [1,2,3,4,5,6]], [[1,2,3,4,5,], [1,2,3,4,5]] ]\n",
    "\n",
    "print(data)\n",
    "\n",
    "print(data[0])\n",
    "\n",
    "print(data[-1])\n",
    "\n",
    "# task\n",
    "# on the 0 th  index  take the 1st element \n",
    "\n",
    "\n"
   ]
  },
  {
   "cell_type": "code",
   "execution_count": 44,
   "id": "ef18dcf6",
   "metadata": {},
   "outputs": [
    {
     "name": "stdout",
     "output_type": "stream",
     "text": [
      "[[[1, 2, 3, 4, 5, 6], [1, 2, 3, 4, 5, 6]], [[1, 2, 3, 4, 5], [1, 2, 3, 4, 5]]]\n"
     ]
    }
   ],
   "source": [
    "# slicing\n",
    "\n",
    "import numpy as np \n",
    "\n",
    "data = [ [[1,2,3,4,5 ,6], [1,2,3,4,5,6]], [[1,2,3,4,5,], [1,2,3,4,5]] , [[1,2,3,4,5,], [1,2,3,4,5]],[[1,2,3,4,5,], [1,2,3,4,5]]]\n",
    "\n",
    "print(data[0:2])"
   ]
  },
  {
   "cell_type": "code",
   "execution_count": null,
   "id": "7a286ae6",
   "metadata": {},
   "outputs": [
    {
     "name": "stdout",
     "output_type": "stream",
     "text": [
      "[False False False  True  True  True]\n",
      "[ 4 55  6]\n"
     ]
    }
   ],
   "source": [
    "# filering\n",
    "import numpy as np\n",
    "\n",
    "data =np.array([1,2,3,4,55,6,])\n",
    "\n",
    "# bool indexing\n",
    "print(data > 3)\n",
    "\n",
    "# bool filter by contidion\n",
    "print(data[data > 3])\n"
   ]
  },
  {
   "cell_type": "code",
   "execution_count": null,
   "id": "17a835c1",
   "metadata": {},
   "outputs": [
    {
     "name": "stdout",
     "output_type": "stream",
     "text": [
      "[False False False  True  True  True]\n",
      "[20 34]\n"
     ]
    }
   ],
   "source": [
    "\n",
    "import numpy  as np\n",
    "\n",
    "marks = np.array([40,20,34,60,78,90])\n",
    "\n",
    "print(marks > 40)\n",
    "print(marks[marks < 40])\n",
    "\n",
    "\n",
    "\n"
   ]
  },
  {
   "cell_type": "code",
   "execution_count": 64,
   "id": "549c9358",
   "metadata": {},
   "outputs": [
    {
     "name": "stdout",
     "output_type": "stream",
     "text": [
      "[[ 1  2  3  4  5  6]\n",
      " [ 7  8  9 10 11 12]]\n"
     ]
    }
   ],
   "source": [
    "# reshaping\n",
    "\n",
    "import numpy as np\n",
    "\n",
    "\n",
    "\n",
    "data = np.arange(1,13)\n",
    "\n",
    "# c = np.zeros((2,3,4))\n",
    "\n",
    "\n",
    "reshaped  =  data.reshape(2,6)\n",
    "\n",
    "print(reshaped)\n",
    "\n"
   ]
  },
  {
   "cell_type": "code",
   "execution_count": null,
   "id": "69c058e6",
   "metadata": {},
   "outputs": [
    {
     "name": "stdout",
     "output_type": "stream",
     "text": [
      "[[ 1  2  3  4  5  6  7  8  9 10]\n",
      " [11 12 13 14 15 16 17 18 19 20]\n",
      " [21 22 23 24 25 26 27 28 29 30]]\n",
      "[array([[ 1,  2,  3,  4,  5],\n",
      "       [11, 12, 13, 14, 15],\n",
      "       [21, 22, 23, 24, 25]]), array([[ 6,  7,  8,  9, 10],\n",
      "       [16, 17, 18, 19, 20],\n",
      "       [26, 27, 28, 29, 30]])]\n",
      "verical [array([[ 1,  2,  3,  4,  5,  6,  7,  8,  9, 10]]), array([[11, 12, 13, 14, 15, 16, 17, 18, 19, 20]]), array([[21, 22, 23, 24, 25, 26, 27, 28, 29, 30]])]\n"
     ]
    }
   ],
   "source": [
    "# split\n",
    "import numpy as np\n",
    "\n",
    "data = np.arange(1,31)\n",
    "# does not take the last element \n",
    "reshaped = data.reshape(3,10)\n",
    "\n",
    "print(reshaped)\n",
    "print(\"horizontal\", np.hsplit(reshaped, 2))\n",
    "print(\"verical\" ,np.vsplit(reshaped, 3))\n"
   ]
  },
  {
   "cell_type": "code",
   "execution_count": 48,
   "id": "05ce2b11",
   "metadata": {},
   "outputs": [
    {
     "name": "stdout",
     "output_type": "stream",
     "text": [
      "Total Sales:\n",
      " [[5100 3100 8200]\n",
      " [6300 4500 4000]\n",
      " [5100 5700 6000]]\n",
      "Total Sales per Region:\n",
      " [16400 14800 16800]\n",
      "Average Sales per Region:\n",
      " [5466.66666667 4933.33333333 5600.        ]\n",
      "Average Round [5467.]\n",
      "Region with Highest Sales: 2\n",
      "Difference between Q2 and Q1:\n",
      " [[ 500  100 -200]\n",
      " [ 100  500  200]\n",
      " [ 100  300  200]]\n"
     ]
    }
   ],
   "source": [
    "import numpy as  np\n",
    "\n",
    "sales_q1 = np.array([[2300, 1500, 4200],\n",
    "                     [3100, 2000, 1900],\n",
    "                     [2500, 2700, 2900]])\n",
    "\n",
    "sales_q2 = np.array([[2800, 1600, 4000],\n",
    "                     [3200, 2500, 2100],\n",
    "                     [2600, 3000, 3100]])\n",
    "\n",
    "\n",
    "\n",
    "total_sales = sales_q1 + sales_q2\n",
    "\n",
    "print(\"Total Sales:\\n\", total_sales)\n",
    "\n",
    "r_total_sales = np.sum(total_sales, axis=1)\n",
    "\n",
    "print(\"Total Sales per Region:\\n\", r_total_sales)\n",
    "\n",
    "region_average = np.mean(total_sales, axis=1)\n",
    "\n",
    "\n",
    "print(\"Average Sales per Region:\\n\", region_average)\n",
    "print(\"Average Round\",np.round(region_average[:1]))\n",
    "\n",
    "highest_region = np.argmax(region_average)\n",
    "\n",
    "print(\"Region with Highest Sales:\", highest_region)\n",
    "\n",
    "difference = sales_q2 - sales_q1\n",
    "\n",
    "print(\"Difference between Q2 and Q1:\\n\", difference)"
   ]
  },
  {
   "cell_type": "code",
   "execution_count": null,
   "id": "f885fe80",
   "metadata": {},
   "outputs": [
    {
     "name": "stdout",
     "output_type": "stream",
     "text": [
      "Passed Scores: [78 90 88 92 79]\n",
      "First 2 Students' Scores:\n",
      " [[65 78 90]\n",
      " [45 55 60]]\n",
      "Second Student's Scores: [45 55 60]\n",
      "Flipped Scores:\n",
      " [[30 40 35]\n",
      " [79 92 88]\n",
      " [60 55 45]\n",
      " [90 78 65]]\n"
     ]
    }
   ],
   "source": [
    "# task 2\n",
    "import numpy as np\n",
    "\n",
    "scores = np.array([\n",
    "      [65, 78, 90],\n",
    "    [45, 55, 60],\n",
    "    [88, 92, 79],\n",
    "    [35, 40, 30]\n",
    "\n",
    "])\n",
    "\n",
    "# print(marks[marks < 40])\n",
    "\n",
    "passed = scores[scores > 70] \n",
    "\n",
    "print(\"Passed Scores:\", passed)\n",
    "\n",
    "# :2 = first two rows\n",
    "# :  = all columns\n",
    "\n",
    "first_2_students = scores[:2, :]  \n",
    "print(\"First 2 Students' Scores:\\n\", first_2_students)\n",
    "\n",
    "second_student_scores = scores[1, :]\n",
    "print(\"Second Student's Scores:\", second_student_scores)\n",
    "\n",
    "\n",
    "# ::-1 flip rows\n",
    "flipped_scores = scores[::-1, ::-1]\n",
    "print(\"Flipped Scores:\\n\", flipped_scores)\n",
    "\n",
    "\n",
    "\n",
    "\n"
   ]
  },
  {
   "cell_type": "code",
   "execution_count": null,
   "id": "c95042b9",
   "metadata": {},
   "outputs": [
    {
     "name": "stdout",
     "output_type": "stream",
     "text": [
      "Combined Sales:\n",
      " [[250 450]\n",
      " [650 850]]\n",
      "Combined Sales (Vertical Stack):\n",
      " [[100 200]\n",
      " [300 400]\n",
      " [150 250]\n",
      " [350 450]]\n",
      "Flattened Sales:\n",
      " [100 200 300 400 150 250 350 450]\n"
     ]
    }
   ],
   "source": [
    "# task 3\n",
    "import numpy  as np \n",
    "\n",
    "sales_2024 = np.array([[100, 200], [300, 400]])\n",
    "sales_2025 = np.array([[150, 250], [350, 450]])\n",
    "\n",
    "combine = np.array(sales_2024 + sales_2025 )\n",
    "print(\"Combined Sales:\\n\", combine)\n",
    "\n",
    "# putting one array on side by side.\n",
    "# need same no of colums\n",
    "coimbed_sales = np.vstack((sales_2024, sales_2025))\n",
    "print(\"Combined Sales (Vertical Stack):\\n\", coimbed_sales)\n",
    "\n",
    "\n",
    "# .flatten convert multi dimensional to single dimensional\n",
    "flattern_sales = coimbed_sales.flatten()\n",
    "print(\"Flattened Sales:\\n\", flattern_sales)\n",
    "\n",
    "\n",
    "\n",
    "\n",
    "\n",
    "\n"
   ]
  },
  {
   "cell_type": "code",
   "execution_count": null,
   "id": "a95ef347",
   "metadata": {},
   "outputs": [
    {
     "name": "stdout",
     "output_type": "stream",
     "text": [
      "add [5 7 9]\n",
      "sub [-3 -3 -3]\n",
      "multipication [ 4 10 18]\n",
      "division [0.25 0.4  0.5 ]\n",
      "modulus [1 2 3]\n",
      "exponent [  1  32 729]\n",
      "floor div [0 0 0]\n"
     ]
    }
   ],
   "source": [
    "# Arithmetic operations\n",
    "\n",
    "import numpy  as np\n",
    "\n",
    "\n",
    "# arr = np.array([1, 2, 3, 4, 5])\n",
    "\n",
    "a = np.array([1,2,3])\n",
    "b = np.array([4,5,6])\n",
    "\n",
    "print(\"add\", a+b)\n",
    "print(\"sub\",a-b)\n",
    "print(\"multipication\", a*b)\n",
    "print(\"division\", a/b)\n",
    "print(\"modulus\", a%b)\n",
    "print(\"exponent\", a**b)\n",
    "print(\"floor div\", a//b)\n",
    "\n",
    "\n",
    "\n",
    "\n"
   ]
  },
  {
   "cell_type": "code",
   "execution_count": 6,
   "id": "c5685edc",
   "metadata": {},
   "outputs": [
    {
     "name": "stdout",
     "output_type": "stream",
     "text": [
      "[6 7 8]\n",
      "[-4 -3 -2]\n",
      "[ 5 10 15]\n",
      "[0.2 0.4 0.6]\n"
     ]
    }
   ],
   "source": [
    "# Scaler operations\n",
    "# automatically applies to all the elements of the array\n",
    "\n",
    "import numpy as np\n",
    "\n",
    "a = np.array([1,2,3])\n",
    "\n",
    "print(a + 5)\n",
    "print(a - 5)\n",
    "print(a * 5)\n",
    "print(a / 5)"
   ]
  },
  {
   "cell_type": "code",
   "execution_count": 61,
   "id": "eaa0f7b9",
   "metadata": {},
   "outputs": [
    {
     "name": "stdout",
     "output_type": "stream",
     "text": [
      "shape (2, 3)\n",
      "shape (2, 3)\n",
      "C =  [[35 38]\n",
      " [63 73]]\n"
     ]
    }
   ],
   "source": [
    "# dot\n",
    "# matrix multiplication\n",
    "\n",
    "import numpy as np\n",
    "\n",
    "\n",
    "A = np.array([[1, 2,3],\n",
    "              [3, 4,4]\n",
    "              ])\n",
    "B = np.array([[5, 6,6],\n",
    "              [7, 8,5]])\n",
    "\n",
    "# A = np.array([[1, 2],\n",
    "#               [3, 4]])\n",
    "# B = np.array([[5, 6],\n",
    "#               [7, 8]])\n",
    "\n",
    "#       R   c\n",
    "\n",
    "# 3:2\n",
    "# first table  column = second table rows\n",
    "c = np.transpose(B)\n",
    "\n",
    "\n",
    "# A*B\n",
    "c = np.dot(A,c)\n",
    "print(\"shape\", A.shape)\n",
    "print(\"shape\",B.shape)\n",
    "print(\"C = \" , c)\n",
    "# print(np.dot(A, B))"
   ]
  },
  {
   "cell_type": "code",
   "execution_count": 22,
   "id": "665fbf4e",
   "metadata": {},
   "outputs": [
    {
     "name": "stdout",
     "output_type": "stream",
     "text": [
      "[False  True False]\n",
      "[False False  True]\n",
      "[ True  True False]\n",
      "[False  True  True]\n"
     ]
    }
   ],
   "source": [
    "# logical operations\n",
    "import numpy as np\n",
    "\n",
    "a = np.array([10, 20, 30])\n",
    "b = np.array([20, 20, 10])\n",
    "\n",
    "print(a == b)   \n",
    "print(a > b)   \n",
    "print(a <= 20) \n",
    "\n",
    "\n",
    "# Logical operations\n",
    "print(np.logical_and(a > 10, b < 30))  \n"
   ]
  },
  {
   "cell_type": "code",
   "execution_count": null,
   "id": "32af41e3",
   "metadata": {},
   "outputs": [
    {
     "name": "stdout",
     "output_type": "stream",
     "text": [
      "[3 4 5 6]\n"
     ]
    }
   ],
   "source": [
    "# Broadcasting\n",
    "import numpy as np\n",
    "\n",
    "data = np.array([1,2,3,4])\n",
    "\n",
    "print(data +2)\n",
    "\n",
    "\n"
   ]
  },
  {
   "cell_type": "code",
   "execution_count": 2,
   "id": "0fed8bd5",
   "metadata": {},
   "outputs": [
    {
     "name": "stdout",
     "output_type": "stream",
     "text": [
      "sum 10\n",
      "max 4\n",
      "avg 2.5\n",
      "mean 2.5\n",
      "median 2.5\n",
      "sd 1.118033988749895\n",
      "sum 18\n",
      "sum axis = 1 :  [6 6 6]\n",
      "sum axis = 0 :  [3 6 9]\n",
      "[[[ 1  2  3]\n",
      "  [ 1  2  3]]\n",
      "\n",
      " [[ 1  2  3]\n",
      "  [ 1 25  3]]]\n",
      "sum 47\n",
      "sum axis = 0 colums [[ 2  4  6]\n",
      " [ 2 27  6]]\n",
      "sum axis = 1  row [[ 2  4  6]\n",
      " [ 2 27  6]]\n",
      "sum axis = 2  row [[ 6  6]\n",
      " [ 6 29]]\n",
      "mean 3.9166666666666665\n",
      "argmin 0\n",
      "argmax 10\n"
     ]
    }
   ],
   "source": [
    "# Aggrigation functions  = sumarrizing \n",
    "\n",
    "import numpy as np \n",
    "\n",
    "data = np.array([1,2,3,4,])\n",
    "\n",
    "# print(data + 1)\n",
    "print(\"sum\" ,np.sum(data))\n",
    "print(\"max\", np.max(data))\n",
    "print(\"avg\", np.average(data))\n",
    "print(\"mean\" , np.mean(data))\n",
    "print(\"median\", np.median(data))\n",
    "print(\"sd\", np.std(data))\n",
    "\n",
    "\n",
    "data2 = np.array([[1,2,3], [1,2,3],[1,2,3]])\n",
    "\n",
    "print(\"sum\", np.sum(data2))\n",
    "# 1 = row\n",
    "print(\"sum axis = 1 : \",np.sum(data2, axis=1) )\n",
    "# 0 = colum\n",
    "print(\"sum axis = 0 : \", np.sum(data2, axis =0))\n",
    "\n",
    "data3 = np.array([[[1,2,3], [1,2,3]], [[1,2,3], [1,25,3]],])\n",
    "\n",
    "print(data3)\n",
    "print(\"sum\" , np.sum(data3))\n",
    "print(\"sum axis = 0 colums\" ,np.sum(data3, axis = 0))\n",
    "print(\"sum axis = 1  row\" ,np.sum(data3, axis = 1))\n",
    "print(\"sum axis = 2  row\" ,np.sum(data3, axis = 2))\n",
    "print(\"mean\", np.mean(data3))\n",
    "print(\"argmin\", np.argmin(data3))\n",
    "print(\"argmax\", np.argmax(data3))\n",
    "\n",
    "\n",
    "\n",
    "\n",
    "\n",
    "\n",
    "\n",
    "\n",
    "\n",
    "\n",
    "\n"
   ]
  },
  {
   "cell_type": "code",
   "execution_count": null,
   "id": "dac0016f",
   "metadata": {},
   "outputs": [
    {
     "name": "stdout",
     "output_type": "stream",
     "text": [
      "Normal [12  4  5  6]\n",
      "fancy [22 77 12]\n",
      "Normal [[ 33   6   3 122  44]\n",
      " [ 12  45   2  36 754]]\n",
      "fancy [  6 754]\n"
     ]
    }
   ],
   "source": [
    "# fancy indexing\n",
    "import numpy as np\n",
    "\n",
    "a = np.array([12,4,5,6,334,77,22])\n",
    "a1 = np.array([[33,6,3,122,44],[12,45,2,36,754]])\n",
    "# normal \n",
    "b = a[:4]\n",
    "b1 =a1[:3]\n",
    "# fancy\n",
    "c = a[[6,5,0]]\n",
    "\n",
    "#        r      c\n",
    "c1 = a1[[0,1],[1,4]]\n",
    "\n",
    "# ONE DIMENTIONAL\n",
    "print(\"Normal\",b)\n",
    "print(\"fancy\",c)\n",
    "\n",
    "# Two Dimentional\n",
    "print(\"Normal\",b1)\n",
    "print(\"fancy\",c1)\n",
    "\n",
    "\n",
    "# print(a[:])\n",
    "\n"
   ]
  },
  {
   "cell_type": "code",
   "execution_count": 50,
   "id": "9d2ae2c7",
   "metadata": {},
   "outputs": [
    {
     "name": "stdout",
     "output_type": "stream",
     "text": [
      "[[[ 23  45  34  45  54]\n",
      "  [345  23  64  23  65]\n",
      "  [323  54  43  23  45]]\n",
      "\n",
      " [[ 33  54  54   5   4]\n",
      "  [ 45   5   4  42   2]\n",
      "  [ 21  45 223   1  10]]]\n",
      "65\n"
     ]
    }
   ],
   "source": [
    "# select multiple rows in specific  colums\n",
    "\n",
    "import numpy as np \n",
    "\n",
    "markes = np.array([[[23,45,34,45,54],[345,23,64,23,65],[323,54,43,23,45]],[[33,54,54,5,4],[45,5,4,42,2],[21,45,223,1,10]]])\n",
    "\n",
    "# []\n",
    "\n",
    "# [[],[]]\n",
    "\n",
    "# [[[]]]\n",
    "print(markes)\n",
    "print(markes[0,1,4])\n",
    "# print(markes[[1,2,3][]])\n",
    "\n"
   ]
  },
  {
   "cell_type": "code",
   "execution_count": 77,
   "id": "35873f08",
   "metadata": {},
   "outputs": [
    {
     "name": "stdout",
     "output_type": "stream",
     "text": [
      "[[[79 65 78 27 46 67 10]\n",
      "  [82 52 42 41 28 34 51]\n",
      "  [91 55 69  9 30 22 64]\n",
      "  [56 20 36  8 92  6 91]]\n",
      "\n",
      " [[80 86  6 92 48 33 97]\n",
      "  [87 20 10 65 80 63 85]\n",
      "  [16 11 83 90 76 32 17]\n",
      "  [82 31 98 12 42 74 16]]\n",
      "\n",
      " [[70 16 45 96 61 61 24]\n",
      "  [51 18  7 57 57 21 73]\n",
      "  [41 98 79 85 38  3 31]\n",
      "  [38 29 91 87 83  1 81]]]\n"
     ]
    }
   ],
   "source": [
    "# two dimensionl  -  normal & fancy indexing = 5 times \n",
    "# three dimensionl -  normal & fancy indexing = 5 times\n",
    "\n",
    "import numpy as np\n",
    "\n",
    "a = np.random.randint(1,100,size=(3,4,7))\n",
    "\n",
    "print(a)"
   ]
  },
  {
   "cell_type": "code",
   "execution_count": null,
   "id": "a95c5686",
   "metadata": {},
   "outputs": [
    {
     "name": "stdout",
     "output_type": "stream",
     "text": [
      "[[95 29 35]\n",
      " [65 10 73]]\n",
      "[73]\n"
     ]
    }
   ],
   "source": [
    "#1 2d\n",
    "import numpy as np\n",
    "\n",
    "a = np.array(\n",
    "    [\n",
    "    [95, 29, 35],\n",
    "    [65, 10 ,73],\n",
    "    [34, 70, 24],\n",
    "    ]\n",
    "    )\n",
    "\n",
    "b=a[:2]\n",
    "print(b)\n",
    "\n",
    "c = a[[1],[2]]\n",
    "print(c)"
   ]
  },
  {
   "cell_type": "code",
   "execution_count": 59,
   "id": "c0abab1f",
   "metadata": {},
   "outputs": [
    {
     "name": "stdout",
     "output_type": "stream",
     "text": [
      "[[ 34  55  65]\n",
      " [ 23  54 664]]\n",
      "664\n"
     ]
    }
   ],
   "source": [
    "#2 2d\n",
    "import numpy as np \n",
    "a = np.array([[34,55,65],[23,54,664],[123,65,23]])\n",
    "\n",
    "b= a[:2]\n",
    "print(b)\n",
    "\n",
    "c = a[1 ,2]\n",
    "print(c)"
   ]
  },
  {
   "cell_type": "code",
   "execution_count": 60,
   "id": "205df30e",
   "metadata": {},
   "outputs": [
    {
     "name": "stdout",
     "output_type": "stream",
     "text": [
      "[[4 3 2]]\n",
      "433\n"
     ]
    }
   ],
   "source": [
    "#3 3d\n",
    "import numpy as np\n",
    "a = np.array([[4,3,2],[231,2123,45],[433,23,76]])\n",
    "\n",
    "b=a[:1]\n",
    "print(b)\n",
    "\n",
    "c = a[2,0]\n",
    "print(c)"
   ]
  },
  {
   "cell_type": "code",
   "execution_count": 62,
   "id": "9a1d68f3",
   "metadata": {},
   "outputs": [
    {
     "name": "stdout",
     "output_type": "stream",
     "text": [
      "[[43 22 56  1]\n",
      " [65 32  8 65]]\n",
      "65\n"
     ]
    }
   ],
   "source": [
    "#4 2d\n",
    "import numpy as np\n",
    "\n",
    "a = np.array([[43,22,56,1],[65,32,8,65], [65,23,65,45]])\n",
    "\n",
    "b = a[:2]\n",
    "print(b)\n",
    "\n",
    "c = a[1,3]\n",
    "print(c)"
   ]
  },
  {
   "cell_type": "code",
   "execution_count": 64,
   "id": "b679171e",
   "metadata": {},
   "outputs": [
    {
     "name": "stdout",
     "output_type": "stream",
     "text": [
      "[[23123  3545   454]\n",
      " [  212     4     3]]\n",
      "3\n"
     ]
    }
   ],
   "source": [
    "#5 2d \n",
    "import numpy as np\n",
    "\n",
    "a = np.array([[334,23,23],[23123,3545,454],[212,4,3]])\n",
    "\n",
    "b= a[1:]\n",
    "print(b)\n",
    "\n",
    "c= a[2,2]\n",
    "print(c)"
   ]
  },
  {
   "cell_type": "code",
   "execution_count": 68,
   "id": "e9a98dcf",
   "metadata": {},
   "outputs": [
    {
     "name": "stdout",
     "output_type": "stream",
     "text": [
      "[[[ 12   4   5]\n",
      "  [332  34   5]]]\n",
      "332\n"
     ]
    }
   ],
   "source": [
    "#1 3d\n",
    "import numpy as np\n",
    "\n",
    "a = np.array([[[12,4,5],[332,34,5]],[[34,2,5,],[65,75,32]]])\n",
    "\n",
    "b= a[:1]\n",
    "print(b)\n",
    "\n",
    "c = a[0,1,0]\n",
    "\n",
    "print(c)"
   ]
  },
  {
   "cell_type": "code",
   "execution_count": 69,
   "id": "6a263cb8",
   "metadata": {},
   "outputs": [
    {
     "name": "stdout",
     "output_type": "stream",
     "text": [
      "[[[ 2  3  2]\n",
      "  [23 44 65]\n",
      "  [32  5  6]]]\n",
      "66\n"
     ]
    }
   ],
   "source": [
    "#2 3d\n",
    "import numpy as np\n",
    "\n",
    "a = np.array([[[2,3,2],[23,44,65],[32,5,6]],[[12,44,54],[234,54,65],[32,54,66]]])\n",
    "\n",
    "b= a[:1]\n",
    "print(b)\n",
    "\n",
    "c = a[1,2,2]\n",
    "print(c)"
   ]
  },
  {
   "cell_type": "code",
   "execution_count": 72,
   "id": "e7a71a5e",
   "metadata": {},
   "outputs": [
    {
     "name": "stdout",
     "output_type": "stream",
     "text": [
      "[[[68 13 60]\n",
      "  [ 5 45 62]\n",
      "  [99 95 17]]\n",
      "\n",
      " [[34  4 21]\n",
      "  [65 11 99]\n",
      "  [15 56 16]]]\n",
      "95\n"
     ]
    }
   ],
   "source": [
    "#3 3d\n",
    "import numpy as np\n",
    "\n",
    "a = np.array([[[68, 13, 60],\n",
    "  [ 5, 45, 62,],\n",
    "  [99 ,95, 17]],\n",
    "\n",
    " [[34,  4, 21],\n",
    "  [65, 11 ,99],\n",
    "  [15, 56, 16]],\n",
    "\n",
    " [[ 1, 34, 16],\n",
    "  [56 ,88, 95],\n",
    "  [11 ,66, 36]]])\n",
    "\n",
    "b= a[:2]\n",
    "print(b)\n",
    "\n",
    "c = a[2,1,2]\n",
    "print(c)"
   ]
  },
  {
   "cell_type": "code",
   "execution_count": 74,
   "id": "aee03d5c",
   "metadata": {},
   "outputs": [
    {
     "name": "stdout",
     "output_type": "stream",
     "text": [
      "[[[12 22 93]\n",
      "  [ 9 49 36]\n",
      "  [63 73 38]]]\n",
      "35\n"
     ]
    }
   ],
   "source": [
    "#4 3d\n",
    "import numpy as np\n",
    "\n",
    "a = np.array([[[12 ,22, 93],\n",
    "  [ 9, 49, 36],\n",
    "  [63, 73, 38]],\n",
    "\n",
    " [[43, 96, 76],\n",
    "  [58, 94, 57],\n",
    "  [83, 73 ,98]],\n",
    "\n",
    " [[83, 39, 14],\n",
    "  [35, 27, 21],\n",
    "  [45 ,67, 79]]])\n",
    "\n",
    "b= a[:1]\n",
    "print(b)\n",
    "\n",
    "c= a[2,1,0]\n",
    "print(c)"
   ]
  },
  {
   "cell_type": "code",
   "execution_count": 76,
   "id": "a2681927",
   "metadata": {},
   "outputs": [
    {
     "name": "stdout",
     "output_type": "stream",
     "text": [
      "[[[40 30 54]\n",
      "  [42 50 83]\n",
      "  [23 37 96]]\n",
      "\n",
      " [[25 53 74]\n",
      "  [18 54 17]\n",
      "  [68 31 45]]]\n",
      "9\n"
     ]
    }
   ],
   "source": [
    "#5 3d\n",
    "import numpy as np\n",
    "\n",
    "a = np.array([[[40, 30, 54],\n",
    "  [42, 50, 83],\n",
    "  [23 ,37, 96]],\n",
    "\n",
    " [[25, 53, 74],\n",
    "  [18 ,54, 17],\n",
    "  [68 ,31 ,45]],\n",
    "\n",
    " [[52 ,18,  2],\n",
    "  [57, 77, 95],\n",
    "  [59, 58,  9]]])\n",
    "\n",
    "b= a[:-1]\n",
    "print(b)\n",
    "\n",
    "c = a[2,2,2]\n",
    "print(c)"
   ]
  },
  {
   "cell_type": "markdown",
   "id": "39c0f2a3",
   "metadata": {},
   "source": [
    "Imagine you have sales data for 2 years, each year has 2 stores, and each store has 3 products:\n",
    "\n",
    "sales = np.array([\n",
    "    [[100, 200, 300],\n",
    "     [150, 250, 350]],   # Year 1\n",
    "    [[120, 220, 320],\n",
    "     [180, 280, 380]]    # Year 2\n",
    "])\n",
    "\n",
    "Now:\n",
    "\n",
    "Operation\tMeaning\tExample\n",
    "\n",
    "np.sum(sales)\tTotal sales (all years, stores, products)\tBusiness total\n",
    "np.sum(sales, axis=0)\tTotal sales per store & product (all years combined)\tCompare store performance\n",
    "np.mean(sales, axis=2)\tAvg sales per store (across products)\tProduct mix analysis\n",
    "\n",
    "\n",
    "\n",
    "\n",
    "\n",
    "\n",
    "arr = np.array([10, 20, 30, 40, 50, 60])\n",
    "result = arr[(arr > 20) & (arr < 50)]\n",
    "print(result)\n",
    "\n",
    "\n",
    "\n",
    "\n",
    "\n",
    "Difference between fancy indexing and normal indexing\n",
    "\n",
    "\n",
    "\n",
    "\n",
    "Task: Weather Data Analysis (3D NumPy Array)\n",
    "\n",
    "📖 Scenario:\n",
    "\n",
    "You are a data analyst at a climate research center.\n",
    "You’ve been given a 3D NumPy array representing daily temperature readings (in °C) collected from 3 cities over 4 weeks (7 days each).\n",
    "\n",
    "Array Dimensions: (3, 4, 7)\n",
    "\n",
    "Axis 0 → Cities (3)\n",
    "\n",
    "Axis 1 → Weeks (4)\n",
    "\n",
    "Axis 2 → Days (7)\n",
    "\n",
    "\n",
    "So data[city, week, day] gives temperature for a specific city on a specific day of a specific week. Use random for genarating exampl 15 degree to 60 degree.\n",
    "\n",
    "Your Tasks\n",
    "Task 1: Calculate the average temperature per city for all weeks.\n",
    "Output shape: (3,)\n",
    "(Hint: use axis=(1,2) to average across weeks & days)\n",
    "\n",
    "Task 2: Find the hottest day of the month (max temperature) for each city.\n",
    "\n",
    "Output shape: (3,)\n",
    "(Hint: use np.max() with appropriate axis)\n",
    "\n",
    "Task 3: Extract all temperature values above 35°C across all cities.\n",
    "\n",
    "Return them as a flat array.\n",
    "\n",
    "(Hint: Boolean fancy indexing)\n",
    "\n",
    " Task 4: Replace all temperatures below 20°C with the city’s weekly average.\n",
    "\n",
    "(Hint: Use broadcasting and fancy indexing)\n",
    "\n",
    "Task 5: Compute which city had the highest overall average temperature across the 4 weeks.\n",
    "\n",
    "Output: city index (0, 1, or 2)\n",
    "\n",
    "\n",
    "Task 6: Get a 2D array of each city's average temperature per week.\n",
    "\n",
    "Output shape: (3, 4)\n",
    "(Hint: average across days → axis=2)\n",
    "\n",
    "Task 7 (Bonus): Normalize all temperatures city-wise\n",
    "\n",
    "so that each city’s data has values between 0 and 1.\n",
    "\n",
    "(Hint: (x - x.min()) / (x.max() - x.min()), done per city)"
   ]
  },
  {
   "cell_type": "code",
   "execution_count": 111,
   "id": "86b524e6",
   "metadata": {},
   "outputs": [
    {
     "name": "stdout",
     "output_type": "stream",
     "text": [
      "[[[35 28 21 37 38 49 40]\n",
      "  [46 22 44 20 32 39 47]\n",
      "  [29 51 25 43 31 55 40]\n",
      "  [39 42 43 39 58 32 40]]\n",
      "\n",
      " [[33 25 44 48 25 57 29]\n",
      "  [24 26 59 49 40 29 38]\n",
      "  [50 16 52 29 41 48 59]\n",
      "  [57 19 44 18 23 24 21]]\n",
      "\n",
      " [[38 17 48 42 49 55 33]\n",
      "  [55 48 16 32 60 16 55]\n",
      "  [56 30 15 58 52 25 37]\n",
      "  [53 25 26 40 33 24 43]]]\n",
      "average temperature per city for all weeks :  [38.  36.7 38.6]\n",
      "shape : (3,)\n",
      "Hottest temperature per city :  [58 59 60]\n",
      "shape: (3,)\n",
      "Flatten Weather Data : [35 28 21 37 38 49 40 46 22 44 20 32 39 47 29 51 25 43 31 55 40 39 42 43\n",
      " 39 58 32 40 33 25 44 48 25 57 29 24 26 59 49 40 29 38 50 16 52 29 41 48\n",
      " 59 57 19 44 18 23 24 21 38 17 48 42 49 55 33 55 48 16 32 60 16 55 56 30\n",
      " 15 58 52 25 37 53 25 26 40 33 24 43]\n",
      "Temperature above 35 :  [37 38 49 40 46 44 39 47 51 43 55 40 39 42 43 39 58 40 44 48 57 59 49 40\n",
      " 38 50 52 41 48 59 57 44 38 48 42 49 55 55 48 60 55 56 58 52 37 53 40 43]\n",
      "weeky Avg   :  [[35.42857143 35.71428571 39.14285714 41.85714286]\n",
      " [37.28571429 37.85714286 42.14285714 29.42857143]\n",
      " [40.28571429 40.28571429 39.         34.85714286]]\n",
      "find Below 20 [[[False False False False False False False]\n",
      "  [False False False False False False False]\n",
      "  [False False False False False False False]\n",
      "  [False False False False False False False]]\n",
      "\n",
      " [[False False False False False False False]\n",
      "  [False False False False False False False]\n",
      "  [False  True False False False False False]\n",
      "  [False  True False  True False False False]]\n",
      "\n",
      " [[False  True False False False False False]\n",
      "  [False False  True False False  True False]\n",
      "  [False False  True False False False False]\n",
      "  [False False False False False False False]]]\n",
      "sum below 20 : 7\n",
      "shape : weekly Avg :  (3, 4, 1)\n",
      "shape : find below_ 20 :  (3, 4, 7)\n",
      "weekly_avg_redata :  [[[35.42857143]\n",
      "  [35.71428571]\n",
      "  [39.14285714]\n",
      "  [41.85714286]]\n",
      "\n",
      " [[37.28571429]\n",
      "  [37.85714286]\n",
      "  [42.14285714]\n",
      "  [29.42857143]]\n",
      "\n",
      " [[40.28571429]\n",
      "  [40.28571429]\n",
      "  [39.        ]\n",
      "  [34.85714286]]]\n"
     ]
    },
    {
     "ename": "TypeError",
     "evalue": "NumPy boolean array indexing assignment requires a 0 or 1-dimensional input, input has 2 dimensions",
     "output_type": "error",
     "traceback": [
      "\u001b[1;31m---------------------------------------------------------------------------\u001b[0m",
      "\u001b[1;31mTypeError\u001b[0m                                 Traceback (most recent call last)",
      "Cell \u001b[1;32mIn[111], line 46\u001b[0m\n\u001b[0;32m     42\u001b[0m \u001b[38;5;28mprint\u001b[39m(\u001b[38;5;124m\"\u001b[39m\u001b[38;5;124mshape : find below_ 20 : \u001b[39m\u001b[38;5;124m\"\u001b[39m, find_below_20\u001b[38;5;241m.\u001b[39mshape)\n\u001b[0;32m     44\u001b[0m \u001b[38;5;28mprint\u001b[39m(\u001b[38;5;124m\"\u001b[39m\u001b[38;5;124mweekly_avg_redata : \u001b[39m\u001b[38;5;124m\"\u001b[39m, weekly_avg_reddata)\n\u001b[1;32m---> 46\u001b[0m weather_data[find_below_20] \u001b[38;5;241m=\u001b[39m weekly_avg_reddata[find_below_20[:,:,\u001b[38;5;241m0\u001b[39m]]\n\u001b[0;32m     48\u001b[0m \u001b[38;5;66;03m# weather_data[find_below_20] = weekly_avg_reddata[find_below_20]\u001b[39;00m\n\u001b[0;32m     50\u001b[0m \u001b[38;5;28mprint\u001b[39m(\u001b[38;5;124m\"\u001b[39m\u001b[38;5;124mweather_data : 20 : \u001b[39m\u001b[38;5;124m\"\u001b[39m,weather_data[find_below_20])\n",
      "\u001b[1;31mTypeError\u001b[0m: NumPy boolean array indexing assignment requires a 0 or 1-dimensional input, input has 2 dimensions"
     ]
    }
   ],
   "source": [
    "# Weather Data Analysis\n",
    "\n",
    "import numpy as np\n",
    "\n",
    "weather_data = np.random.randint(15,61,size=(3,4,7))\n",
    "\n",
    "print(weather_data)\n",
    "\n",
    "average_temperature_city = np.mean(weather_data , axis=(1,2))\n",
    "\n",
    "print(\"average temperature per city for all weeks : \", average_temperature_city.round(1))\n",
    "\n",
    "print(\"shape :\" , average_temperature_city.shape)\n",
    "\n",
    "\n",
    "max_temperature_city = np.max(weather_data, axis=(1,2))\n",
    "print(\"Hottest temperature per city : \", max_temperature_city)\n",
    "print(\"shape:\" , max_temperature_city.shape)\n",
    "\n",
    "\n",
    "flatten_data = weather_data.flatten()\n",
    "print(\"Flatten Weather Data :\",flatten_data)\n",
    "\n",
    "temperature_above_35 = weather_data[weather_data > 35]\n",
    "print(\"Temperature above 35 : \",temperature_above_35)\n",
    "\n",
    "\n",
    "weekly_avg = np.mean(weather_data , axis=2)\n",
    "print(\"weeky Avg   : \", weekly_avg)\n",
    "\n",
    "\n",
    "find_below_20 = weather_data < 20\n",
    "# find_below_20 = [weather_data < 20]\n",
    "\n",
    "print(\"find Below 20\",find_below_20)\n",
    "\n",
    "print(\"sum below 20 :\", find_below_20.sum())\n",
    "\n",
    "weekly_avg_reddata  =  weekly_avg[:,:,np.newaxis]\n",
    "\n",
    "print(\"shape : weekly Avg : \", weekly_avg_reddata.shape)\n",
    "print(\"shape : find below_ 20 : \", find_below_20.shape)\n",
    "\n",
    "print(\"weekly_avg_redata : \", weekly_avg_reddata)\n",
    "\n",
    "weather_data[find_below_20] = weekly_avg_reddata[find_below_20[:,:,0]]\n",
    "\n",
    "# weather_data[find_below_20] = weekly_avg_reddata[find_below_20]\n",
    "\n",
    "print(\"weather_data : 20 : \",weather_data[find_below_20])\n",
    "# print(\"weekly_avg : 20 : \", weekly_avg_reddata[find_below_20])\n",
    "\n",
    "# print(\"weather_data\",weather_data)\n",
    "\n",
    "\n",
    "    \n",
    "\n",
    "\n"
   ]
  }
 ],
 "metadata": {
  "kernelspec": {
   "display_name": "base",
   "language": "python",
   "name": "python3"
  },
  "language_info": {
   "codemirror_mode": {
    "name": "ipython",
    "version": 3
   },
   "file_extension": ".py",
   "mimetype": "text/x-python",
   "name": "python",
   "nbconvert_exporter": "python",
   "pygments_lexer": "ipython3",
   "version": "3.12.7"
  }
 },
 "nbformat": 4,
 "nbformat_minor": 5
}
