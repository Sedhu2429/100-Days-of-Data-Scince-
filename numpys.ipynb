{
 "cells": [
  {
   "cell_type": "code",
   "execution_count": 8,
   "id": "1f6f5444",
   "metadata": {},
   "outputs": [
    {
     "name": "stdout",
     "output_type": "stream",
     "text": [
      "shape (3, 3)\n"
     ]
    }
   ],
   "source": [
    "import numpy as np\n",
    "\n",
    "a = np.array([[1,2,3], [4,5,6], [7,8,9]])\n",
    "\n",
    "\n",
    "print(\"shape\", a.shape)\n",
    "\n"
   ]
  },
  {
   "cell_type": "markdown",
   "id": "b178b36e",
   "metadata": {},
   "source": [
    "Three Dimensional arrary"
   ]
  },
  {
   "cell_type": "code",
   "execution_count": 74,
   "id": "15450605",
   "metadata": {},
   "outputs": [
    {
     "name": "stdout",
     "output_type": "stream",
     "text": [
      "shape (2, 3, 3)\n",
      "[[[1 2 3]\n",
      "  [4 5 6]\n",
      "  [7 8 9]]\n",
      "\n",
      " [[1 2 3]\n",
      "  [4 5 6]\n",
      "  [7 8 9]]]\n"
     ]
    }
   ],
   "source": [
    "import numpy as np \n",
    "b = np.array([[[1,2,3], [4,5,6], [7,8,9] ] , [[1,2,3] ,[4,5,6],[7,8,9]]] )\n",
    "print(\"shape\", b.shape)\n",
    "print(b)\n",
    "\n"
   ]
  },
  {
   "cell_type": "code",
   "execution_count": 27,
   "id": "b3d784e5",
   "metadata": {},
   "outputs": [
    {
     "name": "stdout",
     "output_type": "stream",
     "text": [
      "shape (2, 3, 4)\n",
      "[[[36 49 59 77]\n",
      "  [ 5  5 64 77]\n",
      "  [60 83 60 74]]\n",
      "\n",
      " [[ 7  7 75 62]\n",
      "  [34 49 36 51]\n",
      "  [90  6 70 22]]]\n",
      "shape (2, 3, 4)\n"
     ]
    }
   ],
   "source": [
    "import numpy as np\n",
    "\n",
    "c = np.zeros((2,3,4))\n",
    "\n",
    "\n",
    "\n",
    "print(\"shape\", c.shape)\n",
    "\n",
    "d = np.random.randint(1,100,(2,3,4))\n",
    "\n",
    "\n",
    "print(d)\n",
    "print(\"shape\", d.shape)"
   ]
  },
  {
   "cell_type": "markdown",
   "id": "07924bbd",
   "metadata": {},
   "source": [
    "single dimensional "
   ]
  },
  {
   "cell_type": "code",
   "execution_count": null,
   "id": "73138609",
   "metadata": {},
   "outputs": [
    {
     "name": "stdout",
     "output_type": "stream",
     "text": [
      "shape (2, 2)\n"
     ]
    }
   ],
   "source": [
    "import numpy as np \n",
    "\n",
    "e  = np.array([\n",
    "    [\n",
    "        np.array([1,2,3]), np.array([4,5,6])  \n",
    "    ],\n",
    "    [\n",
    "        np.array([7,8]) , np.array([10,11,12])\n",
    "    ]\n",
    "    ] , dtype=object )\n",
    "\n",
    "print(\"shape\", e.shape) \n",
    "\n",
    "# single dimensional \n",
    "\n",
    "\n",
    "    \n"
   ]
  },
  {
   "cell_type": "code",
   "execution_count": null,
   "id": "1b57ed2d",
   "metadata": {},
   "outputs": [
    {
     "name": "stdout",
     "output_type": "stream",
     "text": [
      "5\n"
     ]
    }
   ],
   "source": [
    "import  numpy as np\n",
    "\n",
    "data = [ [[1,2,3,4,5 ,6], [1,2,3,4,5,6]], [[1,2,3,4,5,], [1,2,3,4,5]] ]\n",
    "\n",
    "lenght = max(len(row) for block in data  for row in block)\n",
    "\n",
    "for i in data:\n",
    "    for j in i:\n",
    "        l = len(j)\n",
    "\n",
    "print(l)"
   ]
  },
  {
   "cell_type": "markdown",
   "id": "0d30d8fb",
   "metadata": {},
   "source": [
    "Tasks\n",
    "\n",
    "1. syncthtic data\n",
    "2. \n"
   ]
  },
  {
   "cell_type": "code",
   "execution_count": null,
   "id": "4f6a385b",
   "metadata": {},
   "outputs": [
    {
     "name": "stdout",
     "output_type": "stream",
     "text": [
      "[[[1, 2, 3, 4, 5, 6], [1, 2, 3, 4, 5, 6]], [[1, 2, 3, 4, 5], [1, 2, 3, 4, 5]]]\n",
      "[[1, 2, 3, 4, 5, 6], [1, 2, 3, 4, 5, 6]]\n",
      "[[1, 2, 3, 4, 5], [1, 2, 3, 4, 5]]\n"
     ]
    }
   ],
   "source": [
    "# indexing\n",
    "import  numpy as np\n",
    "\n",
    "data = [ [[1,2,3,4,5 ,6], [1,2,3,4,5,6]], [[1,2,3,4,5,], [1,2,3,4,5]] ]\n",
    "\n",
    "print(data)\n",
    "\n",
    "print(data[0])\n",
    "\n",
    "print(data[-1])\n",
    "\n",
    "# task\n",
    "# on the 0 th  index  take the 1st element \n",
    "\n",
    "\n"
   ]
  },
  {
   "cell_type": "code",
   "execution_count": 44,
   "id": "ef18dcf6",
   "metadata": {},
   "outputs": [
    {
     "name": "stdout",
     "output_type": "stream",
     "text": [
      "[[[1, 2, 3, 4, 5, 6], [1, 2, 3, 4, 5, 6]], [[1, 2, 3, 4, 5], [1, 2, 3, 4, 5]]]\n"
     ]
    }
   ],
   "source": [
    "# slicing\n",
    "\n",
    "import numpy as np \n",
    "\n",
    "data = [ [[1,2,3,4,5 ,6], [1,2,3,4,5,6]], [[1,2,3,4,5,], [1,2,3,4,5]] , [[1,2,3,4,5,], [1,2,3,4,5]],[[1,2,3,4,5,], [1,2,3,4,5]]]\n",
    "\n",
    "print(data[0:2])"
   ]
  },
  {
   "cell_type": "code",
   "execution_count": null,
   "id": "7a286ae6",
   "metadata": {},
   "outputs": [
    {
     "name": "stdout",
     "output_type": "stream",
     "text": [
      "[False False False  True  True  True]\n",
      "[ 4 55  6]\n"
     ]
    }
   ],
   "source": [
    "# filering\n",
    "import numpy as np\n",
    "\n",
    "data =np.array([1,2,3,4,55,6,])\n",
    "\n",
    "# bool indexing\n",
    "print(data > 3)\n",
    "\n",
    "# bool filter by contidion\n",
    "print(data[data > 3])\n"
   ]
  },
  {
   "cell_type": "code",
   "execution_count": null,
   "id": "17a835c1",
   "metadata": {},
   "outputs": [
    {
     "name": "stdout",
     "output_type": "stream",
     "text": [
      "[False False False  True  True  True]\n",
      "[20 34]\n"
     ]
    }
   ],
   "source": [
    "\n",
    "import numpy  as np\n",
    "\n",
    "marks = np.array([40,20,34,60,78,90])\n",
    "\n",
    "print(marks > 40)\n",
    "print(marks[marks < 40])\n",
    "\n",
    "\n",
    "\n"
   ]
  },
  {
   "cell_type": "code",
   "execution_count": 64,
   "id": "549c9358",
   "metadata": {},
   "outputs": [
    {
     "name": "stdout",
     "output_type": "stream",
     "text": [
      "[[ 1  2  3  4  5  6]\n",
      " [ 7  8  9 10 11 12]]\n"
     ]
    }
   ],
   "source": [
    "# reshaping\n",
    "\n",
    "import numpy as np\n",
    "\n",
    "\n",
    "\n",
    "data = np.arange(1,13)\n",
    "\n",
    "# c = np.zeros((2,3,4))\n",
    "\n",
    "\n",
    "reshaped  =  data.reshape(2,6)\n",
    "\n",
    "print(reshaped)\n",
    "\n"
   ]
  },
  {
   "cell_type": "code",
   "execution_count": null,
   "id": "69c058e6",
   "metadata": {},
   "outputs": [
    {
     "name": "stdout",
     "output_type": "stream",
     "text": [
      "[[ 1  2  3  4  5  6  7  8  9 10]\n",
      " [11 12 13 14 15 16 17 18 19 20]\n",
      " [21 22 23 24 25 26 27 28 29 30]]\n",
      "[array([[ 1,  2,  3,  4,  5],\n",
      "       [11, 12, 13, 14, 15],\n",
      "       [21, 22, 23, 24, 25]]), array([[ 6,  7,  8,  9, 10],\n",
      "       [16, 17, 18, 19, 20],\n",
      "       [26, 27, 28, 29, 30]])]\n",
      "verical [array([[ 1,  2,  3,  4,  5,  6,  7,  8,  9, 10]]), array([[11, 12, 13, 14, 15, 16, 17, 18, 19, 20]]), array([[21, 22, 23, 24, 25, 26, 27, 28, 29, 30]])]\n"
     ]
    }
   ],
   "source": [
    "# split\n",
    "import numpy as np\n",
    "\n",
    "data = np.arange(1,31)\n",
    "# does not take the last element \n",
    "reshaped = data.reshape(3,10)\n",
    "\n",
    "print(reshaped)\n",
    "print(\"horizontal\", np.hsplit(reshaped, 2))\n",
    "print(\"verical\" ,np.vsplit(reshaped, 3))\n"
   ]
  },
  {
   "cell_type": "code",
   "execution_count": 48,
   "id": "05ce2b11",
   "metadata": {},
   "outputs": [
    {
     "name": "stdout",
     "output_type": "stream",
     "text": [
      "Total Sales:\n",
      " [[5100 3100 8200]\n",
      " [6300 4500 4000]\n",
      " [5100 5700 6000]]\n",
      "Total Sales per Region:\n",
      " [16400 14800 16800]\n",
      "Average Sales per Region:\n",
      " [5466.66666667 4933.33333333 5600.        ]\n",
      "Average Round [5467.]\n",
      "Region with Highest Sales: 2\n",
      "Difference between Q2 and Q1:\n",
      " [[ 500  100 -200]\n",
      " [ 100  500  200]\n",
      " [ 100  300  200]]\n"
     ]
    }
   ],
   "source": [
    "import numpy as  np\n",
    "\n",
    "sales_q1 = np.array([[2300, 1500, 4200],\n",
    "                     [3100, 2000, 1900],\n",
    "                     [2500, 2700, 2900]])\n",
    "\n",
    "sales_q2 = np.array([[2800, 1600, 4000],\n",
    "                     [3200, 2500, 2100],\n",
    "                     [2600, 3000, 3100]])\n",
    "\n",
    "\n",
    "\n",
    "total_sales = sales_q1 + sales_q2\n",
    "\n",
    "print(\"Total Sales:\\n\", total_sales)\n",
    "\n",
    "r_total_sales = np.sum(total_sales, axis=1)\n",
    "\n",
    "print(\"Total Sales per Region:\\n\", r_total_sales)\n",
    "\n",
    "region_average = np.mean(total_sales, axis=1)\n",
    "\n",
    "\n",
    "print(\"Average Sales per Region:\\n\", region_average)\n",
    "print(\"Average Round\",np.round(region_average[:1]))\n",
    "\n",
    "highest_region = np.argmax(region_average)\n",
    "\n",
    "print(\"Region with Highest Sales:\", highest_region)\n",
    "\n",
    "difference = sales_q2 - sales_q1\n",
    "\n",
    "print(\"Difference between Q2 and Q1:\\n\", difference)"
   ]
  },
  {
   "cell_type": "code",
   "execution_count": null,
   "id": "f885fe80",
   "metadata": {},
   "outputs": [
    {
     "name": "stdout",
     "output_type": "stream",
     "text": [
      "Passed Scores: [78 90 88 92 79]\n",
      "First 2 Students' Scores:\n",
      " [[65 78 90]\n",
      " [45 55 60]]\n",
      "Second Student's Scores: [45 55 60]\n",
      "Flipped Scores:\n",
      " [[30 40 35]\n",
      " [79 92 88]\n",
      " [60 55 45]\n",
      " [90 78 65]]\n"
     ]
    }
   ],
   "source": [
    "# task 2\n",
    "import numpy as np\n",
    "\n",
    "scores = np.array([\n",
    "      [65, 78, 90],\n",
    "    [45, 55, 60],\n",
    "    [88, 92, 79],\n",
    "    [35, 40, 30]\n",
    "\n",
    "])\n",
    "\n",
    "# print(marks[marks < 40])\n",
    "\n",
    "passed = scores[scores > 70] \n",
    "\n",
    "print(\"Passed Scores:\", passed)\n",
    "\n",
    "# :2 = first two rows\n",
    "# :  = all columns\n",
    "\n",
    "first_2_students = scores[:2, :]  \n",
    "print(\"First 2 Students' Scores:\\n\", first_2_students)\n",
    "\n",
    "second_student_scores = scores[1, :]\n",
    "print(\"Second Student's Scores:\", second_student_scores)\n",
    "\n",
    "\n",
    "# ::-1 flip rows\n",
    "flipped_scores = scores[::-1, ::-1]\n",
    "print(\"Flipped Scores:\\n\", flipped_scores)\n",
    "\n",
    "\n",
    "\n",
    "\n"
   ]
  },
  {
   "cell_type": "code",
   "execution_count": null,
   "id": "c95042b9",
   "metadata": {},
   "outputs": [
    {
     "name": "stdout",
     "output_type": "stream",
     "text": [
      "Combined Sales:\n",
      " [[250 450]\n",
      " [650 850]]\n",
      "Combined Sales (Vertical Stack):\n",
      " [[100 200]\n",
      " [300 400]\n",
      " [150 250]\n",
      " [350 450]]\n",
      "Flattened Sales:\n",
      " [100 200 300 400 150 250 350 450]\n"
     ]
    }
   ],
   "source": [
    "# task 3\n",
    "import numpy  as np \n",
    "\n",
    "sales_2024 = np.array([[100, 200], [300, 400]])\n",
    "sales_2025 = np.array([[150, 250], [350, 450]])\n",
    "\n",
    "combine = np.array(sales_2024 + sales_2025 )\n",
    "print(\"Combined Sales:\\n\", combine)\n",
    "\n",
    "# putting one array on side by side.\n",
    "# need same no of colums\n",
    "coimbed_sales = np.vstack((sales_2024, sales_2025))\n",
    "print(\"Combined Sales (Vertical Stack):\\n\", coimbed_sales)\n",
    "\n",
    "\n",
    "# .flatten convert multi dimensional to single dimensional\n",
    "flattern_sales = coimbed_sales.flatten()\n",
    "print(\"Flattened Sales:\\n\", flattern_sales)\n",
    "\n",
    "\n",
    "\n",
    "\n",
    "\n",
    "\n"
   ]
  },
  {
   "cell_type": "code",
   "execution_count": null,
   "id": "a95ef347",
   "metadata": {},
   "outputs": [
    {
     "name": "stdout",
     "output_type": "stream",
     "text": [
      "add [5 7 9]\n",
      "sub [-3 -3 -3]\n",
      "multipication [ 4 10 18]\n",
      "division [0.25 0.4  0.5 ]\n",
      "modulus [1 2 3]\n",
      "exponent [  1  32 729]\n",
      "floor div [0 0 0]\n"
     ]
    }
   ],
   "source": [
    "# Arithmetic operations\n",
    "\n",
    "import numpy  as np\n",
    "\n",
    "\n",
    "# arr = np.array([1, 2, 3, 4, 5])\n",
    "\n",
    "a = np.array([1,2,3])\n",
    "b = np.array([4,5,6])\n",
    "\n",
    "print(\"add\", a+b)\n",
    "print(\"sub\",a-b)\n",
    "print(\"multipication\", a*b)\n",
    "print(\"division\", a/b)\n",
    "print(\"modulus\", a%b)\n",
    "print(\"exponent\", a**b)\n",
    "print(\"floor div\", a//b)\n",
    "\n",
    "\n",
    "\n",
    "\n"
   ]
  },
  {
   "cell_type": "code",
   "execution_count": 6,
   "id": "c5685edc",
   "metadata": {},
   "outputs": [
    {
     "name": "stdout",
     "output_type": "stream",
     "text": [
      "[6 7 8]\n",
      "[-4 -3 -2]\n",
      "[ 5 10 15]\n",
      "[0.2 0.4 0.6]\n"
     ]
    }
   ],
   "source": [
    "# Scaler operations\n",
    "# automatically applies to all the elements of the array\n",
    "\n",
    "import numpy as np\n",
    "\n",
    "a = np.array([1,2,3])\n",
    "\n",
    "print(a + 5)\n",
    "print(a - 5)\n",
    "print(a * 5)\n",
    "print(a / 5)"
   ]
  },
  {
   "cell_type": "code",
   "execution_count": 61,
   "id": "eaa0f7b9",
   "metadata": {},
   "outputs": [
    {
     "name": "stdout",
     "output_type": "stream",
     "text": [
      "shape (2, 3)\n",
      "shape (2, 3)\n",
      "C =  [[35 38]\n",
      " [63 73]]\n"
     ]
    }
   ],
   "source": [
    "# dot\n",
    "# matrix multiplication\n",
    "\n",
    "import numpy as np\n",
    "\n",
    "\n",
    "A = np.array([[1, 2,3],\n",
    "              [3, 4,4]\n",
    "              ])\n",
    "B = np.array([[5, 6,6],\n",
    "              [7, 8,5]])\n",
    "\n",
    "# A = np.array([[1, 2],\n",
    "#               [3, 4]])\n",
    "# B = np.array([[5, 6],\n",
    "#               [7, 8]])\n",
    "\n",
    "#       R   c\n",
    "\n",
    "# 3:2\n",
    "# first table  column = second table rows\n",
    "c = np.transpose(B)\n",
    "\n",
    "\n",
    "# A*B\n",
    "c = np.dot(A,c)\n",
    "print(\"shape\", A.shape)\n",
    "print(\"shape\",B.shape)\n",
    "print(\"C = \" , c)\n",
    "# print(np.dot(A, B))"
   ]
  },
  {
   "cell_type": "code",
   "execution_count": 22,
   "id": "665fbf4e",
   "metadata": {},
   "outputs": [
    {
     "name": "stdout",
     "output_type": "stream",
     "text": [
      "[False  True False]\n",
      "[False False  True]\n",
      "[ True  True False]\n",
      "[False  True  True]\n"
     ]
    }
   ],
   "source": [
    "# logical operations\n",
    "import numpy as np\n",
    "\n",
    "a = np.array([10, 20, 30])\n",
    "b = np.array([20, 20, 10])\n",
    "\n",
    "print(a == b)   \n",
    "print(a > b)   \n",
    "print(a <= 20) \n",
    "\n",
    "\n",
    "# Logical operations\n",
    "print(np.logical_and(a > 10, b < 30))  \n"
   ]
  },
  {
   "cell_type": "code",
   "execution_count": null,
   "id": "32af41e3",
   "metadata": {},
   "outputs": [
    {
     "name": "stdout",
     "output_type": "stream",
     "text": [
      "[3 4 5 6]\n"
     ]
    }
   ],
   "source": [
    "# Broadcasting\n",
    "import numpy as np\n",
    "\n",
    "data = np.array([1,2,3,4])\n",
    "\n",
    "print(data +2)\n",
    "\n",
    "\n"
   ]
  },
  {
   "cell_type": "code",
   "execution_count": null,
   "id": "0fed8bd5",
   "metadata": {},
   "outputs": [],
   "source": [
    "# Aggrigation functions\n",
    "\n",
    "import numpy as np \n",
    "\n",
    "data = np.array([1,2,3,4])\n",
    "\n",
    "\n",
    "\n"
   ]
  },
  {
   "cell_type": "code",
   "execution_count": null,
   "id": "dac0016f",
   "metadata": {},
   "outputs": [],
   "source": [
    "import numpy as np\n",
    "\n",
    "a = np.array([[[1,2,3,], [1,2,3], ]])"
   ]
  }
 ],
 "metadata": {
  "kernelspec": {
   "display_name": "base",
   "language": "python",
   "name": "python3"
  },
  "language_info": {
   "codemirror_mode": {
    "name": "ipython",
    "version": 3
   },
   "file_extension": ".py",
   "mimetype": "text/x-python",
   "name": "python",
   "nbconvert_exporter": "python",
   "pygments_lexer": "ipython3",
   "version": "3.12.7"
  }
 },
 "nbformat": 4,
 "nbformat_minor": 5
}
