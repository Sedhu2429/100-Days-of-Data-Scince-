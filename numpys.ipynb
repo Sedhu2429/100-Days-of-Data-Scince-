{
 "cells": [
  {
   "cell_type": "code",
   "execution_count": 8,
   "id": "1f6f5444",
   "metadata": {},
   "outputs": [
    {
     "name": "stdout",
     "output_type": "stream",
     "text": [
      "shape (3, 3)\n"
     ]
    }
   ],
   "source": [
    "import numpy as np\n",
    "\n",
    "a = np.array([[1,2,3], [4,5,6], [7,8,9]])\n",
    "\n",
    "\n",
    "print(\"shape\", a.shape)\n",
    "\n"
   ]
  },
  {
   "cell_type": "markdown",
   "id": "b178b36e",
   "metadata": {},
   "source": [
    "Three Dimensional arrary"
   ]
  },
  {
   "cell_type": "code",
   "execution_count": 74,
   "id": "15450605",
   "metadata": {},
   "outputs": [
    {
     "name": "stdout",
     "output_type": "stream",
     "text": [
      "shape (2, 3, 3)\n",
      "[[[1 2 3]\n",
      "  [4 5 6]\n",
      "  [7 8 9]]\n",
      "\n",
      " [[1 2 3]\n",
      "  [4 5 6]\n",
      "  [7 8 9]]]\n"
     ]
    }
   ],
   "source": [
    "import numpy as np \n",
    "b = np.array([[[1,2,3], [4,5,6], [7,8,9] ] , [[1,2,3] ,[4,5,6],[7,8,9]]] )\n",
    "print(\"shape\", b.shape)\n",
    "print(b)\n",
    "\n"
   ]
  },
  {
   "cell_type": "code",
   "execution_count": 27,
   "id": "b3d784e5",
   "metadata": {},
   "outputs": [
    {
     "name": "stdout",
     "output_type": "stream",
     "text": [
      "shape (2, 3, 4)\n",
      "[[[36 49 59 77]\n",
      "  [ 5  5 64 77]\n",
      "  [60 83 60 74]]\n",
      "\n",
      " [[ 7  7 75 62]\n",
      "  [34 49 36 51]\n",
      "  [90  6 70 22]]]\n",
      "shape (2, 3, 4)\n"
     ]
    }
   ],
   "source": [
    "import numpy as np\n",
    "\n",
    "c = np.zeros((2,3,4))\n",
    "\n",
    "\n",
    "\n",
    "print(\"shape\", c.shape)\n",
    "\n",
    "d = np.random.randint(1,100,(2,3,4))\n",
    "\n",
    "\n",
    "print(d)\n",
    "print(\"shape\", d.shape)"
   ]
  },
  {
   "cell_type": "markdown",
   "id": "07924bbd",
   "metadata": {},
   "source": [
    "single dimensional "
   ]
  },
  {
   "cell_type": "code",
   "execution_count": null,
   "id": "73138609",
   "metadata": {},
   "outputs": [
    {
     "name": "stdout",
     "output_type": "stream",
     "text": [
      "shape (2, 2)\n"
     ]
    }
   ],
   "source": [
    "import numpy as np \n",
    "\n",
    "e  = np.array([\n",
    "    [\n",
    "        np.array([1,2,3]), np.array([4,5,6])  \n",
    "    ],\n",
    "    [\n",
    "        np.array([7,8]) , np.array([10,11,12])\n",
    "    ]\n",
    "    ] , dtype=object )\n",
    "\n",
    "print(\"shape\", e.shape) \n",
    "\n",
    "# single dimensional \n",
    "\n",
    "\n",
    "    \n"
   ]
  },
  {
   "cell_type": "code",
   "execution_count": null,
   "id": "1b57ed2d",
   "metadata": {},
   "outputs": [
    {
     "name": "stdout",
     "output_type": "stream",
     "text": [
      "5\n"
     ]
    }
   ],
   "source": [
    "import  numpy as np\n",
    "\n",
    "data = [ [[1,2,3,4,5 ,6], [1,2,3,4,5,6]], [[1,2,3,4,5,], [1,2,3,4,5]] ]\n",
    "\n",
    "lenght = max(len(row) for block in data  for row in block)\n",
    "\n",
    "for i in data:\n",
    "    for j in i:\n",
    "        l = len(j)\n",
    "\n",
    "print(l)"
   ]
  },
  {
   "cell_type": "markdown",
   "id": "0d30d8fb",
   "metadata": {},
   "source": [
    "Tasks\n",
    "\n",
    "1. syncthtic data\n",
    "2. \n"
   ]
  },
  {
   "cell_type": "code",
   "execution_count": null,
   "id": "4f6a385b",
   "metadata": {},
   "outputs": [
    {
     "name": "stdout",
     "output_type": "stream",
     "text": [
      "[[[1, 2, 3, 4, 5, 6], [1, 2, 3, 4, 5, 6]], [[1, 2, 3, 4, 5], [1, 2, 3, 4, 5]]]\n",
      "[[1, 2, 3, 4, 5, 6], [1, 2, 3, 4, 5, 6]]\n",
      "[[1, 2, 3, 4, 5], [1, 2, 3, 4, 5]]\n"
     ]
    }
   ],
   "source": [
    "# indexing\n",
    "import  numpy as np\n",
    "\n",
    "data = [ [[1,2,3,4,5 ,6], [1,2,3,4,5,6]], [[1,2,3,4,5,], [1,2,3,4,5]] ]\n",
    "\n",
    "print(data)\n",
    "\n",
    "print(data[0])\n",
    "\n",
    "print(data[-1])\n",
    "\n",
    "# task\n",
    "# on the 0 th  index  take the 1st element \n",
    "\n",
    "\n"
   ]
  },
  {
   "cell_type": "code",
   "execution_count": 44,
   "id": "ef18dcf6",
   "metadata": {},
   "outputs": [
    {
     "name": "stdout",
     "output_type": "stream",
     "text": [
      "[[[1, 2, 3, 4, 5, 6], [1, 2, 3, 4, 5, 6]], [[1, 2, 3, 4, 5], [1, 2, 3, 4, 5]]]\n"
     ]
    }
   ],
   "source": [
    "# slicing\n",
    "\n",
    "import numpy as np \n",
    "\n",
    "data = [ [[1,2,3,4,5 ,6], [1,2,3,4,5,6]], [[1,2,3,4,5,], [1,2,3,4,5]] , [[1,2,3,4,5,], [1,2,3,4,5]],[[1,2,3,4,5,], [1,2,3,4,5]]]\n",
    "\n",
    "print(data[0:2])"
   ]
  },
  {
   "cell_type": "code",
   "execution_count": null,
   "id": "7a286ae6",
   "metadata": {},
   "outputs": [
    {
     "name": "stdout",
     "output_type": "stream",
     "text": [
      "[False False False  True  True  True]\n",
      "[ 4 55  6]\n"
     ]
    }
   ],
   "source": [
    "# filering\n",
    "import numpy as np\n",
    "\n",
    "data =np.array([1,2,3,4,55,6,])\n",
    "\n",
    "# bool indexing\n",
    "print(data > 3)\n",
    "\n",
    "# bool filter by contidion\n",
    "print(data[data > 3])\n"
   ]
  },
  {
   "cell_type": "code",
   "execution_count": null,
   "id": "17a835c1",
   "metadata": {},
   "outputs": [
    {
     "name": "stdout",
     "output_type": "stream",
     "text": [
      "[False False False  True  True  True]\n",
      "[20 34]\n"
     ]
    }
   ],
   "source": [
    "\n",
    "import numpy  as np\n",
    "\n",
    "marks = np.array([40,20,34,60,78,90])\n",
    "\n",
    "print(marks > 40)\n",
    "print(marks[marks < 40])\n",
    "\n",
    "\n",
    "\n"
   ]
  },
  {
   "cell_type": "code",
   "execution_count": 64,
   "id": "549c9358",
   "metadata": {},
   "outputs": [
    {
     "name": "stdout",
     "output_type": "stream",
     "text": [
      "[[ 1  2  3  4  5  6]\n",
      " [ 7  8  9 10 11 12]]\n"
     ]
    }
   ],
   "source": [
    "# reshaping\n",
    "\n",
    "import numpy as np\n",
    "\n",
    "\n",
    "\n",
    "data = np.arange(1,13)\n",
    "\n",
    "# c = np.zeros((2,3,4))\n",
    "\n",
    "\n",
    "reshaped  =  data.reshape(2,6)\n",
    "\n",
    "print(reshaped)\n",
    "\n"
   ]
  },
  {
   "cell_type": "code",
   "execution_count": null,
   "id": "69c058e6",
   "metadata": {},
   "outputs": [
    {
     "name": "stdout",
     "output_type": "stream",
     "text": [
      "[[ 1  2  3  4  5  6  7  8  9 10]\n",
      " [11 12 13 14 15 16 17 18 19 20]\n",
      " [21 22 23 24 25 26 27 28 29 30]]\n",
      "[array([[ 1,  2,  3,  4,  5],\n",
      "       [11, 12, 13, 14, 15],\n",
      "       [21, 22, 23, 24, 25]]), array([[ 6,  7,  8,  9, 10],\n",
      "       [16, 17, 18, 19, 20],\n",
      "       [26, 27, 28, 29, 30]])]\n",
      "verical [array([[ 1,  2,  3,  4,  5,  6,  7,  8,  9, 10]]), array([[11, 12, 13, 14, 15, 16, 17, 18, 19, 20]]), array([[21, 22, 23, 24, 25, 26, 27, 28, 29, 30]])]\n"
     ]
    }
   ],
   "source": [
    "# split\n",
    "import numpy as np\n",
    "\n",
    "data = np.arange(1,31)\n",
    "# does not take the last element \n",
    "reshaped = data.reshape(3,10)\n",
    "\n",
    "print(reshaped)\n",
    "print(\"horizontal\", np.hsplit(reshaped, 2))\n",
    "print(\"verical\" ,np.vsplit(reshaped, 3))\n"
   ]
  }
 ],
 "metadata": {
  "kernelspec": {
   "display_name": "base",
   "language": "python",
   "name": "python3"
  },
  "language_info": {
   "codemirror_mode": {
    "name": "ipython",
    "version": 3
   },
   "file_extension": ".py",
   "mimetype": "text/x-python",
   "name": "python",
   "nbconvert_exporter": "python",
   "pygments_lexer": "ipython3",
   "version": "3.12.7"
  }
 },
 "nbformat": 4,
 "nbformat_minor": 5
}
